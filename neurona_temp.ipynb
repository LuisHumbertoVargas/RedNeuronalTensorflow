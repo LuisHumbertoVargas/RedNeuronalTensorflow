{
 "cells": [
  {
   "cell_type": "code",
   "execution_count": 1,
   "metadata": {},
   "outputs": [],
   "source": [
    "import tensorflow as tf # Librería para AI hecha por Google\n",
    "import numpy as np # Para trabajar con arreglos numéricos"
   ]
  },
  {
   "cell_type": "code",
   "execution_count": 2,
   "metadata": {},
   "outputs": [],
   "source": [
    "# Creamos un array con 7 entradas de datos para nuestra neurona de tipo float\n",
    "celsius = np.array([-40, -10, 0, 8, 15, 22, 38], dtype=float)\n",
    "# Creamos otro array con 7 resultados para que aprenda nuestra neurona\n",
    "fahrenheit = np.array([-40, 14, 32, 46, 59, 72, 100], dtype=float)"
   ]
  },
  {
   "cell_type": "code",
   "execution_count": 3,
   "metadata": {},
   "outputs": [],
   "source": [
    "# Creo una capa Densa que contiene una sola neurona\n",
    "\n",
    "# las capas densas son las que tienen conexiones desde\n",
    "# cada neurona hacía todas las neuronas de la siguiente capa\n",
    "\n",
    "# Keras permite hacer nuestras redes neuronales de manera simple\n",
    "# units -> neurona de salida\n",
    "# input_shape -> neurona de entrada\n",
    "capa = tf.keras.layers.Dense(units=1, input_shape=[1])\n",
    "\n",
    "# Creamos nuestro modelo de keras para mandarle la capa y trabajar con ella\n",
    "# El modelo secuencial es un modelo para trabajar con datos sencillos\n",
    "# Existen modelos más avanzados (investigar*)\n",
    "modelo = tf.keras.Sequential([capa])\n",
    "\n",
    "# Creamos otro modelo con más capas y más neuronas\n",
    "# Digamos que agregamos dos capas intermedias con tres neuronas c/u\n",
    "# Hay una neurona de entrada y una de salida\n",
    "# oculta1 = tf.keras.layers.Dense(units=3, input_shape=[1])\n",
    "# oculta2 = tf.keras.layers.Dense(units=3)\n",
    "# salida = tf.keras.layers.Dense(units=1)\n",
    "# modelo = tf.keras.Sequential([oculta1, oculta2, salida])\n"
   ]
  },
  {
   "cell_type": "code",
   "execution_count": 4,
   "metadata": {},
   "outputs": [],
   "source": [
    "# Preparamos el modelo para ser compilado, le decimos como queremos que procese\n",
    "# el aprendizaje automático (cálculos matemáticos)\n",
    "modelo.compile(\n",
    "    # Adam permite a la red cómo ajustar los pesos y sesgos de manera eficiente\n",
    "    # para que aprenda y no desaprenda, es decir, que vaya mejorando.\n",
    "    # Le indicamos un valor numérico que es la tasa de aprendizaje\n",
    "    # ese número le dice que tanto ajustar los pesos y sesgos, si ponemos un número\n",
    "    # muy pequeño los irá ajustando muy lento y si ponemos un número muy grande\n",
    "    # quiza se pasará del número espera y no podrá hacer cambios suficientemente \n",
    "    # finos para llegar a la mejor opción.\n",
    "    optimizer=tf.keras.optimizers.Adam(0.1),\n",
    "    # Para la función de pérdida usaremos mean_squared_error, esta función considera que \n",
    "    # una poca cantidad de errores grandes es peor que una gran cantidad de errores pequeños\n",
    "    loss='mean_squared_error'\n",
    ")"
   ]
  },
  {
   "cell_type": "code",
   "execution_count": 5,
   "metadata": {},
   "outputs": [
    {
     "name": "stdout",
     "output_type": "stream",
     "text": [
      "Comenzando entrenamiento...\n",
      "¡Modelo Entrenado!\n"
     ]
    }
   ],
   "source": [
    "# Procedemos a entrenarlo\n",
    "print('Comenzando entrenamiento...')\n",
    "# usamos la función fit, le indicamos los datos de entrada y resultados esperados\n",
    "# y además le decimos cuántas vueltas quiere que lo intente (epochs=num_vueltas). \n",
    "# le ponemos verbose=False para evitar que imprima mucho mugrero xD\n",
    "historial = modelo.fit(celsius, fahrenheit, epochs=1000, verbose=False)\n",
    "print('¡Modelo Entrenado!')\n",
    "\n"
   ]
  },
  {
   "cell_type": "code",
   "execution_count": 6,
   "metadata": {},
   "outputs": [
    {
     "data": {
      "text/plain": [
       "[<matplotlib.lines.Line2D at 0x12dc2c33c40>]"
      ]
     },
     "execution_count": 6,
     "metadata": {},
     "output_type": "execute_result"
    },
    {
     "data": {
      "image/png": "[encoded data removed]",
      "text/plain": [
       "<Figure size 432x288 with 1 Axes>"
      ]
     },
     "metadata": {
      "needs_background": "light"
     },
     "output_type": "display_data"
    }
   ],
   "source": [
    "# Listo el modelo ya está entrendado y listo para hacer predicciones, pero \n",
    "# antes de hacer predicciones, veamos el resultado de la función de perdida.\n",
    "# Esta función nos dice qué tan mal están los resultados de la red en cada\n",
    "# vuelta que dio.\n",
    "import matplotlib.pyplot as plt\n",
    "plt.xlabel('# Vueltas')\n",
    "plt.ylabel('Magnitud de pérdida')\n",
    "plt.plot(historial.history['loss'])"
   ]
  },
  {
   "cell_type": "code",
   "execution_count": 7,
   "metadata": {},
   "outputs": [
    {
     "name": "stdout",
     "output_type": "stream",
     "text": [
      "Hagamos una predicción...\n",
      "El resultado es: [[211.74135]] Fahrenheit\n"
     ]
    }
   ],
   "source": [
    "# Ahora sí, hagamos una predicción\n",
    "print('Hagamos una predicción...')\n",
    "resutlado = modelo.predict([100.0])\n",
    "print('El resultado es: '+str(resutlado)+ \" Fahrenheit\")\n"
   ]
  },
  {
   "cell_type": "code",
   "execution_count": 8,
   "metadata": {},
   "outputs": [
    {
     "name": "stdout",
     "output_type": "stream",
     "text": [
      "Variables internas del modelo\n",
      "[array([[1.7983336]], dtype=float32), array([31.90799], dtype=float32)]\n"
     ]
    }
   ],
   "source": [
    "# Revisemos la estructura interna de la red neuronal, para ver qué datos se asignaron\n",
    "# después del entrenamiento a la conexión y al sesgo.\n",
    "print('Variables internas del modelo')\n",
    "print(capa.get_weights())"
   ]
  },
  {
   "cell_type": "code",
   "execution_count": 9,
   "metadata": {},
   "outputs": [],
   "source": [
    "# =========== Análisis matemático ============\n",
    "# Peso = 1.79\n",
    "# Sesgo = 31.93\n",
    "\n",
    "# Fórmula que dedujo la red neuronal:\n",
    "# 100 * (1.79) = 179.8 + (31.9) = 211.74\n",
    "\n",
    "# Fórmula que se utiliza en la vida real:\n",
    "# F = C * 1.8 + 32\n",
    "\n",
    "# Función Lineal:\n",
    "# y = mx + b\n",
    "# Que coincidencia!!\n",
    "\n",
    "# Capas intermedias con sus pesos y sesgos\n",
    "# print(oculta1.get_weights())\n",
    "# print(oculta2.get_weights())\n",
    "# print(salida.get_weights())\n",
    "# No tiene caso intentar comprender esos números, son los que utilizó la red neuronal al azar."
   ]
  }
 ],
 "metadata": {
  "interpreter": {
   "hash": "d7f1a23224c7546c01b43f9e0227dafff2d1860a4b29db2e4856ce583532dd74"
  },
  "kernelspec": {
   "display_name": "Python 3.9.1 64-bit ('env': venv)",
   "language": "python",
   "name": "python3"
  },
  "language_info": {
   "codemirror_mode": {
    "name": "ipython",
    "version": 3
   },
   "file_extension": ".py",
   "mimetype": "text/x-python",
   "name": "python",
   "nbconvert_exporter": "python",
   "pygments_lexer": "ipython3",
   "version": "3.9.1"
  },
  "orig_nbformat": 4
 },
 "nbformat": 4,
 "nbformat_minor": 2
}
